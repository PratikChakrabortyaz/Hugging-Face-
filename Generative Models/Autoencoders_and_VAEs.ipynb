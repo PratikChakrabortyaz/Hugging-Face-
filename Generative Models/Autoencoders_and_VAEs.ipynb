{
  "nbformat": 4,
  "nbformat_minor": 0,
  "metadata": {
    "colab": {
      "provenance": []
    },
    "kernelspec": {
      "name": "python3",
      "display_name": "Python 3"
    },
    "language_info": {
      "name": "python"
    }
  },
  "cells": [
    {
      "cell_type": "markdown",
      "source": [
        "# Implementation of Autoencoders in Python"
      ],
      "metadata": {
        "id": "8HsMfTtXFxl9"
      }
    },
    {
      "cell_type": "code",
      "execution_count": null,
      "metadata": {
        "id": "QtMar_AEDare"
      },
      "outputs": [],
      "source": [
        "import numpy as np\n",
        "import matplotlib.pyplot as plt\n",
        "from sklearn.datasets import load_digits\n",
        "from sklearn.preprocessing import MinMaxScaler"
      ]
    },
    {
      "cell_type": "code",
      "source": [
        "digits = load_digits()\n",
        "data = digits.data\n",
        "scaler = MinMaxScaler()\n",
        "data = scaler.fit_transform(data)  # Normalize data to [0, 1] range\n"
      ],
      "metadata": {
        "id": "BN0uaJsQDfqK"
      },
      "execution_count": null,
      "outputs": []
    },
    {
      "cell_type": "code",
      "source": [
        "input_dim = data.shape[1]  # Number of input features (64 for 8x8 images)\n",
        "hidden_dim = 32            # Size of the hidden layer in encoder\n",
        "bottleneck_dim = 16        # Size of the bottleneck layer (compressed representation)\n"
      ],
      "metadata": {
        "id": "igRikiYADla_"
      },
      "execution_count": null,
      "outputs": []
    },
    {
      "cell_type": "code",
      "source": [
        "weights = {\n",
        "    'encoder_hidden': np.random.randn(input_dim, hidden_dim) * 0.01,\n",
        "    'encoder_bottleneck': np.random.randn(hidden_dim, bottleneck_dim) * 0.01,\n",
        "    'decoder_hidden': np.random.randn(bottleneck_dim, hidden_dim) * 0.01,\n",
        "    'decoder_output': np.random.randn(hidden_dim, input_dim) * 0.01,\n",
        "}\n",
        "biases = {\n",
        "    'encoder_hidden': np.zeros((1, hidden_dim)),\n",
        "    'encoder_bottleneck': np.zeros((1, bottleneck_dim)),\n",
        "    'decoder_hidden': np.zeros((1, hidden_dim)),\n",
        "    'decoder_output': np.zeros((1, input_dim)),\n",
        "}\n"
      ],
      "metadata": {
        "id": "6XA7OSW5DnjC"
      },
      "execution_count": null,
      "outputs": []
    },
    {
      "cell_type": "code",
      "source": [
        "def sigmoid(x):\n",
        "    return 1 / (1 + np.exp(-x))\n"
      ],
      "metadata": {
        "id": "nSD2vq-TDqgH"
      },
      "execution_count": null,
      "outputs": []
    },
    {
      "cell_type": "code",
      "source": [
        "def encoder(x):\n",
        "    # Pass through first hidden layer\n",
        "    hidden = sigmoid(np.dot(x, weights['encoder_hidden']) + biases['encoder_hidden'])\n",
        "    # Pass through bottleneck layer\n",
        "    bottleneck = sigmoid(np.dot(hidden, weights['encoder_bottleneck']) + biases['encoder_bottleneck'])\n",
        "    return bottleneck\n"
      ],
      "metadata": {
        "id": "twoB-Z4pD6YM"
      },
      "execution_count": null,
      "outputs": []
    },
    {
      "cell_type": "code",
      "source": [
        "def decoder(bottleneck):\n",
        "    # First hidden layer in the decoder\n",
        "    hidden_decoder = sigmoid(np.dot(bottleneck, weights['decoder_hidden']) + biases['decoder_hidden'])\n",
        "    # Output layer in the decoder\n",
        "    output = sigmoid(np.dot(hidden_decoder, weights['decoder_output']) + biases['decoder_output'])\n",
        "    return hidden_decoder, output\n"
      ],
      "metadata": {
        "id": "_AU9jjbHD923"
      },
      "execution_count": null,
      "outputs": []
    },
    {
      "cell_type": "code",
      "source": [
        "def forward_pass(x):\n",
        "    # Encoder: First hidden layer\n",
        "    hidden_encoder = sigmoid(np.dot(x, weights['encoder_hidden']) + biases['encoder_hidden'])\n",
        "    # Encoder: Bottleneck layer (latent representation)\n",
        "    bottleneck = sigmoid(np.dot(hidden_encoder, weights['encoder_bottleneck']) + biases['encoder_bottleneck'])\n",
        "\n",
        "    # Decoder: First hidden layer in the decoder\n",
        "    hidden_decoder = sigmoid(np.dot(bottleneck, weights['decoder_hidden']) + biases['decoder_hidden'])\n",
        "    # Decoder: Output layer, reconstructing the original input\n",
        "    reconstructed = sigmoid(np.dot(hidden_decoder, weights['decoder_output']) + biases['decoder_output'])\n",
        "\n",
        "    return hidden_encoder, bottleneck, hidden_decoder, reconstructed\n"
      ],
      "metadata": {
        "id": "HW1ZVw1UD_n7"
      },
      "execution_count": null,
      "outputs": []
    },
    {
      "cell_type": "code",
      "source": [
        "def compute_loss(original, reconstructed):\n",
        "    return np.mean(np.power(original - reconstructed, 2))\n"
      ],
      "metadata": {
        "id": "S_F0veLlEByb"
      },
      "execution_count": null,
      "outputs": []
    },
    {
      "cell_type": "code",
      "source": [
        "learning_rate = 0.01\n",
        "def backpropagation(x, reconstructed, hidden_encoder, bottleneck, hidden_decoder):\n",
        "    # Compute reconstruction error (loss gradient)\n",
        "    error = reconstructed - x\n",
        "\n",
        "    # Gradient for the output layer in decoder\n",
        "    output_delta = error * reconstructed * (1 - reconstructed)  # Derivative of sigmoid\n",
        "    grad_decoder_output = np.dot(hidden_decoder.T, output_delta)\n",
        "    grad_bias_output = np.sum(output_delta, axis=0, keepdims=True)\n",
        "\n",
        "    # Gradient for the hidden layer in the decoder\n",
        "    hidden_decoder_delta = np.dot(output_delta, weights['decoder_output'].T) * hidden_decoder * (1 - hidden_decoder)\n",
        "    grad_decoder_hidden = np.dot(bottleneck.T, hidden_decoder_delta)\n",
        "    grad_bias_hidden_decoder = np.sum(hidden_decoder_delta, axis=0)\n",
        "\n",
        "    # Gradient for the bottleneck layer (latent representation)\n",
        "    bottleneck_delta = np.dot(hidden_decoder_delta, weights['decoder_hidden'].T) * bottleneck * (1 - bottleneck)\n",
        "    grad_encoder_bottleneck = np.dot(hidden_encoder.T, bottleneck_delta)\n",
        "    grad_bias_bottleneck = np.sum(bottleneck_delta, axis=0)\n",
        "\n",
        "    # Gradient for the hidden layer in the encoder\n",
        "    hidden_encoder_delta = np.dot(bottleneck_delta, weights['encoder_bottleneck'].T) * hidden_encoder * (1 - hidden_encoder)\n",
        "    grad_encoder_hidden = np.dot(x.T, hidden_encoder_delta)\n",
        "    grad_bias_hidden_encoder = np.sum(hidden_encoder_delta, axis=0)\n",
        "\n",
        "    # Update weights and biases using calculated gradients\n",
        "    weights['encoder_hidden'] -= learning_rate * grad_encoder_hidden\n",
        "    weights['encoder_bottleneck'] -= learning_rate * grad_encoder_bottleneck\n",
        "    weights['decoder_hidden'] -= learning_rate * grad_decoder_hidden\n",
        "    weights['decoder_output'] -= learning_rate * grad_decoder_output\n",
        "\n",
        "    biases['encoder_hidden'] -= learning_rate * grad_bias_hidden_encoder\n",
        "    biases['encoder_bottleneck'] -= learning_rate * grad_bias_bottleneck\n",
        "    biases['decoder_hidden'] -= learning_rate * grad_bias_hidden_decoder\n",
        "    biases['decoder_output'] -= learning_rate * grad_bias_output\n",
        "\n"
      ],
      "metadata": {
        "id": "mV21r_qFEFNf"
      },
      "execution_count": null,
      "outputs": []
    },
    {
      "cell_type": "code",
      "source": [
        "epochs = 1000\n",
        "for epoch in range(epochs):\n",
        "    # Forward pass, capturing all intermediate values\n",
        "    hidden_encoder, bottleneck, hidden_decoder, reconstructed = forward_pass(data)\n",
        "\n",
        "    # Compute loss\n",
        "    loss = compute_loss(data, reconstructed)\n",
        "\n",
        "    # Backpropagation with intermediate layers\n",
        "    backpropagation(data, reconstructed, hidden_encoder, bottleneck, hidden_decoder)\n",
        "\n",
        "    # Print loss every 100 epochs\n",
        "    if epoch % 100 == 0:\n",
        "        print(f\"Epoch {epoch}, Loss: {loss}\")\n",
        "\n"
      ],
      "metadata": {
        "colab": {
          "base_uri": "https://localhost:8080/"
        },
        "id": "xvya0b-cEXxo",
        "outputId": "8f8b9fb8-d6b8-46ac-ac10-7b033692f421"
      },
      "execution_count": null,
      "outputs": [
        {
          "output_type": "stream",
          "name": "stdout",
          "text": [
            "Epoch 0, Loss: 0.17875227114974762\n",
            "Epoch 100, Loss: 0.07344778349188603\n",
            "Epoch 200, Loss: 0.06924527452802992\n",
            "Epoch 300, Loss: 0.06760936784129021\n",
            "Epoch 400, Loss: 0.06710220288804129\n",
            "Epoch 500, Loss: 0.06645239968993812\n",
            "Epoch 600, Loss: 0.05862342034288865\n",
            "Epoch 700, Loss: 0.05520443129860214\n",
            "Epoch 800, Loss: 0.04694604063051855\n",
            "Epoch 900, Loss: 0.04089785069433787\n"
          ]
        }
      ]
    },
    {
      "cell_type": "code",
      "source": [
        "# Plot original and reconstructed images\n",
        "num_images = 10\n",
        "fig, axes = plt.subplots(2, num_images, figsize=(15, 4))\n",
        "\n",
        "for i in range(num_images):\n",
        "    # Original images\n",
        "    axes[0, i].imshow(data[i].reshape(8, 8), cmap='gray')\n",
        "    axes[0, i].axis('off')\n",
        "    axes[0, i].set_title(\"Original\")\n",
        "\n",
        "    # Reconstructed images\n",
        "    _, _, _, reconstructed_image = forward_pass(data[i:i+1])  # Run single image through forward pass\n",
        "    axes[1, i].imshow(reconstructed_image.reshape(8, 8), cmap='gray')\n",
        "    axes[1, i].axis('off')\n",
        "    axes[1, i].set_title(\"Reconstructed\")\n",
        "\n",
        "plt.show()\n"
      ],
      "metadata": {
        "colab": {
          "base_uri": "https://localhost:8080/",
          "height": 325
        },
        "id": "GCmX99OUFP70",
        "outputId": "a5f745bd-6d8d-4218-9b27-0fab6bcb0716"
      },
      "execution_count": null,
      "outputs": [
        {
          "output_type": "display_data",
          "data": {
            "text/plain": [
              "<Figure size 1500x400 with 20 Axes>"
            ],
            "image/png": "[encoded data removed]"
          },
          "metadata": {}
        }
      ]
    },
    {
      "cell_type": "markdown",
      "source": [
        "# Implementation of Autoencoders in PyTorch"
      ],
      "metadata": {
        "id": "0YlOkoCMFZTD"
      }
    },
    {
      "cell_type": "code",
      "source": [
        "import torch\n",
        "import torch.nn as nn\n",
        "import torch.optim as optim\n",
        "from sklearn.datasets import load_digits\n",
        "from sklearn.preprocessing import MinMaxScaler\n",
        "import matplotlib.pyplot as plt\n"
      ],
      "metadata": {
        "id": "KVVvO5SEF3cf"
      },
      "execution_count": null,
      "outputs": []
    },
    {
      "cell_type": "code",
      "source": [
        "# Load and scale dataset\n",
        "digits = load_digits()\n",
        "data = digits.data\n",
        "scaler = MinMaxScaler()\n",
        "data = scaler.fit_transform(data)\n",
        "\n",
        "# Convert to PyTorch tensor\n",
        "data = torch.tensor(data, dtype=torch.float32)\n"
      ],
      "metadata": {
        "id": "17LgNfpiF49v"
      },
      "execution_count": null,
      "outputs": []
    },
    {
      "cell_type": "code",
      "source": [
        "class Autoencoder(nn.Module):\n",
        "    def __init__(self, input_dim=64, hidden_dim=32, bottleneck_dim=16):\n",
        "        super(Autoencoder, self).__init__()\n",
        "\n",
        "        # Encoder\n",
        "        self.encoder = nn.Sequential(\n",
        "            nn.Linear(input_dim, hidden_dim),\n",
        "            nn.ReLU(),\n",
        "            nn.Linear(hidden_dim, bottleneck_dim),\n",
        "            nn.ReLU()\n",
        "        )\n",
        "\n",
        "        # Decoder\n",
        "        self.decoder = nn.Sequential(\n",
        "            nn.Linear(bottleneck_dim, hidden_dim),\n",
        "            nn.ReLU(),\n",
        "            nn.Linear(hidden_dim, input_dim),\n",
        "            nn.Sigmoid()  # Use sigmoid to output values in [0, 1]\n",
        "        )\n",
        "\n",
        "    def forward(self, x):\n",
        "        # Pass data through encoder, then decoder\n",
        "        encoded = self.encoder(x)\n",
        "        decoded = self.decoder(encoded)\n",
        "        return decoded\n"
      ],
      "metadata": {
        "id": "7k3Fuz7WF6xQ"
      },
      "execution_count": null,
      "outputs": []
    },
    {
      "cell_type": "code",
      "source": [
        "# Model, loss function, and optimizer\n",
        "input_dim = data.shape[1]\n",
        "model = Autoencoder(input_dim=input_dim, hidden_dim=32, bottleneck_dim=16)\n",
        "criterion = nn.MSELoss()  # MSE for reconstruction error\n",
        "optimizer = optim.Adam(model.parameters(), lr=0.01)\n"
      ],
      "metadata": {
        "id": "BvLzO998F8y2"
      },
      "execution_count": null,
      "outputs": []
    },
    {
      "cell_type": "code",
      "source": [
        "epochs = 1000\n",
        "for epoch in range(epochs):\n",
        "    # Zero the gradients\n",
        "    optimizer.zero_grad()\n",
        "\n",
        "    # Forward pass\n",
        "    reconstructed = model(data)\n",
        "    loss = criterion(reconstructed, data)\n",
        "\n",
        "    # Backward pass and optimize\n",
        "    loss.backward()\n",
        "    optimizer.step()\n",
        "\n",
        "    # Print loss every 100 epochs\n",
        "    if epoch % 100 == 0:\n",
        "        print(f\"Epoch {epoch}, Loss: {loss.item()}\")\n"
      ],
      "metadata": {
        "colab": {
          "base_uri": "https://localhost:8080/"
        },
        "id": "yWTirrmuF-9Z",
        "outputId": "5c4c47df-6b72-4465-9164-276264db3ec0"
      },
      "execution_count": null,
      "outputs": [
        {
          "output_type": "stream",
          "name": "stdout",
          "text": [
            "Epoch 0, Loss: 0.18025480210781097\n",
            "Epoch 100, Loss: 0.02986755780875683\n",
            "Epoch 200, Loss: 0.021828897297382355\n",
            "Epoch 300, Loss: 0.018895531073212624\n",
            "Epoch 400, Loss: 0.016594363376498222\n",
            "Epoch 500, Loss: 0.01548584271222353\n",
            "Epoch 600, Loss: 0.014836321584880352\n",
            "Epoch 700, Loss: 0.014151100069284439\n",
            "Epoch 800, Loss: 0.013812550343573093\n",
            "Epoch 900, Loss: 0.013597670011222363\n"
          ]
        }
      ]
    },
    {
      "cell_type": "code",
      "source": [
        "# Plot original and reconstructed images\n",
        "num_images = 10\n",
        "fig, axes = plt.subplots(2, num_images, figsize=(15, 4))\n",
        "\n",
        "# Get reconstructed output\n",
        "with torch.no_grad():\n",
        "    reconstructed = model(data)\n",
        "\n",
        "for i in range(num_images):\n",
        "    # Original images\n",
        "    axes[0, i].imshow(data[i].numpy().reshape(8, 8), cmap='gray')\n",
        "    axes[0, i].axis('off')\n",
        "    axes[0, i].set_title(\"Original\")\n",
        "\n",
        "    # Reconstructed images\n",
        "    axes[1, i].imshow(reconstructed[i].numpy().reshape(8, 8), cmap='gray')\n",
        "    axes[1, i].axis('off')\n",
        "    axes[1, i].set_title(\"Reconstructed\")\n",
        "\n",
        "plt.show()\n"
      ],
      "metadata": {
        "colab": {
          "base_uri": "https://localhost:8080/",
          "height": 325
        },
        "id": "ZvnxZ9uVGKFc",
        "outputId": "f0b4ede1-52f8-4b1a-f022-ca94996ce583"
      },
      "execution_count": null,
      "outputs": [
        {
          "output_type": "display_data",
          "data": {
            "text/plain": [
              "<Figure size 1500x400 with 20 Axes>"
            ],
            "image/png": "[encoded data removed]"
          },
          "metadata": {}
        }
      ]
    },
    {
      "cell_type": "markdown",
      "source": [
        "# Implementation of Variational Autoencoders in PyTorch"
      ],
      "metadata": {
        "id": "_fe1FwBfGNQl"
      }
    },
    {
      "cell_type": "code",
      "source": [
        "import torch\n",
        "import torch.nn as nn\n",
        "import torch.optim as optim\n",
        "from torch.utils.data import DataLoader, TensorDataset\n",
        "from sklearn.datasets import load_digits\n",
        "from sklearn.preprocessing import MinMaxScaler\n",
        "import matplotlib.pyplot as plt\n"
      ],
      "metadata": {
        "id": "0oJHc4b0JUvb"
      },
      "execution_count": null,
      "outputs": []
    },
    {
      "cell_type": "code",
      "source": [
        "# Load and normalize dataset\n",
        "digits = load_digits()\n",
        "data = digits.data\n",
        "scaler = MinMaxScaler()\n",
        "data = scaler.fit_transform(data)\n",
        "data = torch.tensor(data, dtype=torch.float32)\n",
        "\n",
        "# Create DataLoader\n",
        "batch_size = 64\n",
        "dataset = TensorDataset(data, data)\n",
        "dataloader = DataLoader(dataset, batch_size=batch_size, shuffle=True)\n"
      ],
      "metadata": {
        "id": "LX-Q9n4UJWZq"
      },
      "execution_count": null,
      "outputs": []
    },
    {
      "cell_type": "code",
      "source": [
        "class VAE(nn.Module):\n",
        "    def __init__(self, input_dim=64, hidden_dim=32, latent_dim=16):\n",
        "        super(VAE, self).__init__()\n",
        "\n",
        "        # Encoder layers\n",
        "        self.fc1 = nn.Linear(input_dim, hidden_dim)\n",
        "        self.fc_mu = nn.Linear(hidden_dim, latent_dim)        # For mean\n",
        "        self.fc_logvar = nn.Linear(hidden_dim, latent_dim)    # For log variance\n",
        "\n",
        "        # Decoder layers\n",
        "        self.fc3 = nn.Linear(latent_dim, hidden_dim)\n",
        "        self.fc4 = nn.Linear(hidden_dim, input_dim)\n",
        "\n",
        "    def encode(self, x):\n",
        "        h1 = torch.relu(self.fc1(x))\n",
        "        mu = self.fc_mu(h1)\n",
        "        logvar = self.fc_logvar(h1)\n",
        "        return mu, logvar\n",
        "\n",
        "    def reparameterize(self, mu, logvar):\n",
        "        std = torch.exp(0.5 * logvar)    # Convert log variance to standard deviation\n",
        "        eps = torch.randn_like(std)      # Sample epsilon from standard normal\n",
        "        return mu + eps * std            # Reparameterization trick\n",
        "\n",
        "    def decode(self, z):\n",
        "        h3 = torch.relu(self.fc3(z))\n",
        "        return torch.sigmoid(self.fc4(h3))\n",
        "\n",
        "    def forward(self, x):\n",
        "        mu, logvar = self.encode(x)        # Encode input\n",
        "        z = self.reparameterize(mu, logvar) # Sample z from latent space\n",
        "        return self.decode(z), mu, logvar  # Decode and return reconstructed output\n"
      ],
      "metadata": {
        "id": "qo3RTmCnJYR9"
      },
      "execution_count": null,
      "outputs": []
    },
    {
      "cell_type": "code",
      "source": [
        "def vae_loss(reconstructed, original, mu, logvar):\n",
        "    # Reconstruction loss (MSE)\n",
        "    recon_loss = nn.functional.mse_loss(reconstructed, original, reduction='sum')\n",
        "\n",
        "    # KL Divergence\n",
        "    kl_divergence = -0.5 * torch.sum(1 + logvar - mu.pow(2) - logvar.exp())\n",
        "\n",
        "    # Total loss\n",
        "    return recon_loss + kl_divergence\n"
      ],
      "metadata": {
        "id": "bNXCsSPEJj_i"
      },
      "execution_count": null,
      "outputs": []
    },
    {
      "cell_type": "code",
      "source": [
        "# Set up model, optimizer\n",
        "input_dim = data.shape[1]\n",
        "model = VAE(input_dim=input_dim, hidden_dim=32, latent_dim=16)\n",
        "optimizer = optim.Adam(model.parameters(), lr=0.001)\n",
        "\n",
        "# Training parameters\n",
        "epochs = 50\n",
        "\n",
        "# Training loop\n",
        "for epoch in range(epochs):\n",
        "    model.train()\n",
        "    total_loss = 0\n",
        "\n",
        "    for batch, _ in dataloader:\n",
        "        # Zero gradients\n",
        "        optimizer.zero_grad()\n",
        "\n",
        "        # Forward pass\n",
        "        reconstructed, mu, logvar = model(batch)\n",
        "\n",
        "        # Compute loss and backpropagate\n",
        "        loss = vae_loss(reconstructed, batch, mu, logvar)\n",
        "        loss.backward()\n",
        "        optimizer.step()\n",
        "\n",
        "        # Accumulate loss for monitoring\n",
        "        total_loss += loss.item()\n",
        "\n",
        "    # Print average loss for the epoch\n",
        "    avg_loss = total_loss / len(dataloader.dataset)\n",
        "    print(f\"Epoch {epoch+1}, Loss: {avg_loss:.4f}\")\n"
      ],
      "metadata": {
        "colab": {
          "base_uri": "https://localhost:8080/"
        },
        "id": "uXkBDeHTJmf7",
        "outputId": "d0fe2e28-ff79-491f-de88-77aa47638d79"
      },
      "execution_count": null,
      "outputs": [
        {
          "output_type": "stream",
          "name": "stdout",
          "text": [
            "Epoch 1, Loss: 10.8326\n",
            "Epoch 2, Loss: 8.9259\n",
            "Epoch 3, Loss: 7.2613\n",
            "Epoch 4, Loss: 6.3054\n",
            "Epoch 5, Loss: 5.8008\n",
            "Epoch 6, Loss: 5.4993\n",
            "Epoch 7, Loss: 5.3136\n",
            "Epoch 8, Loss: 5.1569\n",
            "Epoch 9, Loss: 5.0667\n",
            "Epoch 10, Loss: 4.9994\n",
            "Epoch 11, Loss: 4.9752\n",
            "Epoch 12, Loss: 4.9380\n",
            "Epoch 13, Loss: 4.9180\n",
            "Epoch 14, Loss: 4.8965\n",
            "Epoch 15, Loss: 4.8833\n",
            "Epoch 16, Loss: 4.8633\n",
            "Epoch 17, Loss: 4.8645\n",
            "Epoch 18, Loss: 4.8584\n",
            "Epoch 19, Loss: 4.8480\n",
            "Epoch 20, Loss: 4.8402\n",
            "Epoch 21, Loss: 4.8278\n",
            "Epoch 22, Loss: 4.8379\n",
            "Epoch 23, Loss: 4.8386\n",
            "Epoch 24, Loss: 4.8217\n",
            "Epoch 25, Loss: 4.8192\n",
            "Epoch 26, Loss: 4.8241\n",
            "Epoch 27, Loss: 4.8125\n",
            "Epoch 28, Loss: 4.8032\n",
            "Epoch 29, Loss: 4.8178\n",
            "Epoch 30, Loss: 4.8135\n",
            "Epoch 31, Loss: 4.8012\n",
            "Epoch 32, Loss: 4.8117\n",
            "Epoch 33, Loss: 4.8032\n",
            "Epoch 34, Loss: 4.7979\n",
            "Epoch 35, Loss: 4.7986\n",
            "Epoch 36, Loss: 4.7910\n",
            "Epoch 37, Loss: 4.7940\n",
            "Epoch 38, Loss: 4.7958\n",
            "Epoch 39, Loss: 4.8030\n",
            "Epoch 40, Loss: 4.7942\n",
            "Epoch 41, Loss: 4.8026\n",
            "Epoch 42, Loss: 4.7830\n",
            "Epoch 43, Loss: 4.7906\n",
            "Epoch 44, Loss: 4.7911\n",
            "Epoch 45, Loss: 4.7772\n",
            "Epoch 46, Loss: 4.7787\n",
            "Epoch 47, Loss: 4.7778\n",
            "Epoch 48, Loss: 4.7738\n",
            "Epoch 49, Loss: 4.7883\n",
            "Epoch 50, Loss: 4.7716\n"
          ]
        }
      ]
    },
    {
      "cell_type": "code",
      "source": [
        "# Plot original and reconstructed images\n",
        "num_images = 10\n",
        "fig, axes = plt.subplots(2, num_images, figsize=(15, 4))\n",
        "\n",
        "model.eval()  # Set to evaluation mode\n",
        "with torch.no_grad():  # Disable gradient tracking for inference\n",
        "    reconstructed, _, _ = model(data)\n",
        "\n",
        "for i in range(num_images):\n",
        "    # Original images\n",
        "    axes[0, i].imshow(data[i].numpy().reshape(8, 8), cmap='gray')\n",
        "    axes[0, i].axis('off')\n",
        "    axes[0, i].set_title(\"Original\")\n",
        "\n",
        "    # Reconstructed images\n",
        "    axes[1, i].imshow(reconstructed[i].numpy().reshape(8, 8), cmap='gray')\n",
        "    axes[1, i].axis('off')\n",
        "    axes[1, i].set_title(\"Reconstructed\")\n",
        "\n",
        "plt.show()\n"
      ],
      "metadata": {
        "colab": {
          "base_uri": "https://localhost:8080/",
          "height": 325
        },
        "id": "vqoHaPUOJoES",
        "outputId": "3a0cc5d7-a757-44c3-ff12-546e96d49d84"
      },
      "execution_count": null,
      "outputs": [
        {
          "output_type": "display_data",
          "data": {
            "text/plain": [
              "<Figure size 1500x400 with 20 Axes>"
            ],
            "image/png": "[encoded data removed]"
          },
          "metadata": {}
        }
      ]
    },
    {
      "cell_type": "code",
      "source": [],
      "metadata": {
        "id": "h68DjpTaJr4q"
      },
      "execution_count": null,
      "outputs": []
    }
  ]
}